{
 "cells": [
  {
   "cell_type": "markdown",
   "metadata": {},
   "source": [
    "## This file contains functions that will be used by other functions in the inventory system there by the name utilities"
   ]
  },
  {
   "cell_type": "code",
   "execution_count": null,
   "metadata": {},
   "outputs": [],
   "source": [
    "#To be able to call this objects in other notebooks\n",
    "import import_ipynb"
   ]
  },
  {
   "cell_type": "code",
   "execution_count": null,
   "metadata": {},
   "outputs": [],
   "source": [
    "\n",
    "from categories import category_items,categories\n",
    "import json\n",
    "from datetime import date"
   ]
  },
  {
   "cell_type": "code",
   "execution_count": null,
   "metadata": {},
   "outputs": [],
   "source": [
    "#A function to format the product names being provided to\n",
    "#  manner that relates to the inventories\n",
    "def productNameFormatter(productName: str):\n",
    "    #if the product name is a two letter word format it is splitted then combined\n",
    "    if(\" \" in productName):\n",
    "        productName = productName.split(\" \")\n",
    "        productName = productName[0].lower() + productName[1].title()\n",
    "        return productName\n",
    "    else:\n",
    "        productName = productName.lower()\n",
    "        return productName"
   ]
  },
  {
   "cell_type": "code",
   "execution_count": null,
   "metadata": {},
   "outputs": [],
   "source": [
    "# A function to check if a product exists in the inventories\n",
    "def prodIsExist(prod):\n",
    "    with open(\"inventories.json\",\"r\") as handler:\n",
    "        data = json.load(handler)\n",
    "\n",
    "    for key, value in category_items.items():\n",
    "\n",
    "        if prod in value:\n",
    "            if key == 'Beverages':\n",
    "                return [key, data[\"beverages_inventory\"][prod]]\n",
    "            elif key == 'PhoneAccessories':\n",
    "                return [key, data[\"phoneaccessories_inventory\"][prod]]\n",
    "            elif key == 'Toiletries':\n",
    "                return [key, data[\"toiletries_inventory\"][prod]]\n",
    "            elif key == 'Pastry':\n",
    "                return [key, data[\"pastry_inventory\"][prod]]\n",
    "            elif key == 'Cosmetics':\n",
    "                return [key, data[\"cosmetics_inventory\"][prod]]\n",
    "        \n",
    "    return False"
   ]
  },
  {
   "cell_type": "code",
   "execution_count": 2,
   "metadata": {},
   "outputs": [],
   "source": [
    "# A function that updates the sales records json file by adding \n",
    "# the details of products purchased by customers there.\n",
    "def addToSalesRecord(quantity, result, sales_price, productName,total_cost):\n",
    "    sale_details = {}\n",
    "\n",
    "    sale_details[\"quantity\"] = quantity\n",
    "    sale_details[\"productPrice\"] = result[1][\"purchasePrice\"]\n",
    "    sale_details[\"soldFor\"] = sales_price\n",
    "    sale_details[\"category\"] = result[0]\n",
    "    sale_details[\"productName\"] = productName\n",
    "    sale_details[\"date\"] = f\"{date.today()}\"\n",
    "    sale_details[\"totalCost\"] = total_cost\n",
    "\n",
    "    try:\n",
    "        with open(\"sales_records.json\", \"r\") as handler:\n",
    "            salesRecords = json.load(handler)\n",
    "\n",
    "        id = str(len(salesRecords) + 1)\n",
    "\n",
    "        with open(\"sales_records.json\", \"w\") as handler:\n",
    "            salesRecords[id] = sale_details\n",
    "            json.dump(salesRecords, handler, indent=2)\n",
    "\n",
    "        return [True,\"Sales record updated\\n\"]\n",
    "    except:\n",
    "        return [False,\"FILE ERROR\\n\"]"
   ]
  },
  {
   "cell_type": "code",
   "execution_count": null,
   "metadata": {},
   "outputs": [],
   "source": [
    "#A function to deduct the number of products bought from the inventories \n",
    "# and generate an alert if the number of products falls below 5\n",
    "def reduceInventoryQuantity(prod, qty):\n",
    "    with open(\"inventories.json\",\"r\") as handler:\n",
    "        data = json.load(handler)\n",
    "\n",
    "    for key, value in category_items.items():\n",
    "        if prod in value:\n",
    "            if key == 'Beverages':\n",
    "               data[\"beverages_inventory\"][prod][\"quantity\"] = int(data[\"beverages_inventory\"][prod][\"quantity\"]) - qty\n",
    "\n",
    "               if data[\"beverages_inventory\"][prod][\"quantity\"] < 5:\n",
    "                print(f\"[ALERT] {prod} NOW AS LESS THAN 5 AVAILABLE UNITS\") \n",
    "\n",
    "            elif key == 'PhoneAccessories':\n",
    "                data[\"phoneaccessories_inventory\"][prod][\"quantity\"] = int(data[\"phoneaccessories_inventory\"][prod][\"quantity\"]) - qty\n",
    "                \n",
    "                if data[\"phoneaccessories_inventory\"][prod][\"quantity\"] < 5:\n",
    "                    print(f\"[ALERT] {prod} NOW AS LESS THAN 5 AVAILABLE UNITS\") \n",
    "\n",
    "            elif key == 'Toiletries':\n",
    "                data[\"toiletries_inventory\"][prod][\"quantity\"] = int(data[\"toiletries_inventory\"][prod][\"quantity\"]) - qty\n",
    "\n",
    "                if data[\"toiletries_inventory\"][prod][\"quantity\"] < 5:\n",
    "                    print(f\"[ALERT] {prod} NOW AS LESS THAN 5 AVAILABLE UNITS\") \n",
    "\n",
    "            elif key == 'Pastry':\n",
    "                data[\"pastry_inventory\"][prod][\"quantity\"] = int(data[\"pastry_inventory\"][prod][\"quantity\"]) - qty\n",
    "\n",
    "                if data[\"pastry_inventory\"][prod][\"quantity\"] < 5:\n",
    "                    print(f\"[ALERT] {prod} NOW AS LESS THAN 5 AVAILABLE UNITS\") \n",
    "\n",
    "            elif key == 'Cosmetics':\n",
    "                data[\"cosmetics_inventory\"][prod][\"quantity\"] = int(data[\"cosmetics_inventory\"][prod][\"quantity\"]) - qty\n",
    "                \n",
    "                if data[\"cosmetics_inventory\"][prod][\"quantity\"] < 5:\n",
    "                    print(f\"[ALERT] {prod} NOW AS LESS THAN 5 AVAILABLE UNITS\") \n",
    "    \n",
    "    with open(\"inventories.json\", \"w\") as handler:\n",
    "        json.dump(data,handler, indent=2)"
   ]
  },
  {
   "cell_type": "code",
   "execution_count": null,
   "metadata": {},
   "outputs": [],
   "source": [
    "#A function used to generate receipts for purchases made by customers\n",
    "def receiptGenerator(receipt):\n",
    "    total = 0\n",
    "    if len(receipt) > 0:\n",
    "        print(\"RECEIPT\")\n",
    "        print(\"---------\")\n",
    "        for i in receipt:\n",
    "            print(f\"Product: {i['productName']} Quantity: {i['quantity']} subTotal: {i['total']}\")\n",
    "            total = total + i['total']\n",
    "        print(f\"Total: {total}\")\n",
    "    else:\n",
    "        print(\"YOUR RECEIPT IS EMPTY\")"
   ]
  },
  {
   "cell_type": "code",
   "execution_count": null,
   "metadata": {},
   "outputs": [],
   "source": [
    "#A function that answers the option b,c,d of requirement 6 as stated in the pdf\n",
    "def onEachSales():\n",
    "    with open(\"sales_records.json\", \"r\") as handler:\n",
    "        salesRecords = json.load(handler)\n",
    "\n",
    "    #To show total sales for each categories\n",
    "    print(\"TOTAL SALES BY CATEGORY\")\n",
    "    print(\"_______________________\")\n",
    "    for category in categories:\n",
    "        catTotal = 0\n",
    "        for record in salesRecords.values():\n",
    "            if category == record[\"category\"]:\n",
    "                catTotal += record[\"totalCost\"]\n",
    "        print(f\"{category} ==> {catTotal}\")\n",
    "\n",
    "    #To show total sales for each product\n",
    "    print(\"\\n\")\n",
    "    print(\"TOTAL SALES BY PRODUCT\")\n",
    "    print(\"_______________________\")\n",
    "    \n",
    "    newarray = []\n",
    "    for i in category_items.values():\n",
    "        newarray += i\n",
    "    for products in newarray:\n",
    "        productTotal = 0\n",
    "        for record in salesRecords.values():\n",
    "            if products == record[\"productName\"]:\n",
    "                productTotal += record[\"totalCost\"]\n",
    "        print(f\"{products} ==> {productTotal}\")\n",
    "\n",
    "    #To show total sales for each date recorded in the sales record json file\n",
    "    print(\"\\n\")\n",
    "    print(\"TOTAL SALES BY DATE\")\n",
    "    print(\"_______________________\")\n",
    "    #I used sets to remove repetetions\n",
    "    dateArray = set()\n",
    "    for i in salesRecords.values():\n",
    "        dateArray.add(i[\"date\"])\n",
    "\n",
    "    for date in dateArray:\n",
    "        productTotal = 0\n",
    "        for record in salesRecords.values():\n",
    "            if date == record[\"date\"]:\n",
    "                productTotal += record[\"totalCost\"]\n",
    "        print(f\"{date} ==> {productTotal}\")"
   ]
  }
 ],
 "metadata": {
  "kernelspec": {
   "display_name": "Python 3.10.2 64-bit",
   "language": "python",
   "name": "python3"
  },
  "language_info": {
   "codemirror_mode": {
    "name": "ipython",
    "version": 3
   },
   "file_extension": ".py",
   "mimetype": "text/x-python",
   "name": "python",
   "nbconvert_exporter": "python",
   "pygments_lexer": "ipython3",
   "version": "3.10.2"
  },
  "orig_nbformat": 4,
  "vscode": {
   "interpreter": {
    "hash": "c9ca867d73a72652fe5be9e88f2bd22065f337fda4f35137c1e1fee174b5ed27"
   }
  }
 },
 "nbformat": 4,
 "nbformat_minor": 2
}
