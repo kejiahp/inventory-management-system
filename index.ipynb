{
 "cells": [
  {
   "cell_type": "markdown",
   "metadata": {},
   "source": [
    "### Sell products"
   ]
  },
  {
   "cell_type": "code",
   "execution_count": 6,
   "metadata": {},
   "outputs": [],
   "source": [
    "#To be able to call this objects in other notebooks\n",
    "import import_ipynb\n",
    "from sales import productPurchase\n",
    "from restocking import restocker"
   ]
  },
  {
   "cell_type": "code",
   "execution_count": 7,
   "metadata": {},
   "outputs": [
    {
     "name": "stdout",
     "output_type": "stream",
     "text": [
      "\n",
      "\n",
      "Product details: ['Beverages', {'purchasePrice': '10', 'price': '20', 'quantity': '20'}]\n",
      "\n",
      "\n",
      "chocolateDrinks is sold at 20 per unit\n",
      "\n",
      "\n",
      "\n",
      "\n",
      "Total cost of purchase: 40\n",
      "\n",
      "\n",
      "\n",
      "\n",
      "Sales record updated\n",
      "\n",
      "\n",
      "\n",
      "\n",
      "\n",
      "Product details: ['Cosmetics', {'purchasePrice': '60', 'price': '80', 'quantity': '24'}]\n",
      "\n",
      "\n",
      "facialScrubs is sold at 80 per unit\n",
      "\n",
      "\n",
      "\n",
      "\n",
      "Total cost of purchase: 320\n",
      "\n",
      "\n",
      "\n",
      "\n",
      "Sales record updated\n",
      "\n",
      "\n",
      "\n",
      "SHOPPING ENDED(CHECKED OUT)\n",
      "\n",
      "\n",
      "RECEIPT\n",
      "---------\n",
      "Product: chocolateDrinks Quantity: 2 subTotal: 40\n",
      "Product: facialScrubs Quantity: 4 subTotal: 320\n",
      "Total: 360\n",
      "\n",
      "Answer to number 6\n",
      "TOTAL SALES BY CATEGORY\n",
      "_______________________\n",
      "Beverages ==> 40\n",
      "PhoneAccessories ==> 0\n",
      "Toiletries ==> 0\n",
      "Pastry ==> 0\n",
      "Cosmetics ==> 320\n",
      "\n",
      "\n",
      "TOTAL SALES BY PRODUCT\n",
      "_______________________\n",
      "chocolateDrinks ==> 40\n",
      "coffee ==> 0\n",
      "tea ==> 0\n",
      "soyDrinks ==> 0\n",
      "pop ==> 0\n",
      "soda ==> 0\n",
      "carryingCase ==> 0\n",
      "earpieces ==> 0\n",
      "screenGuards ==> 0\n",
      "toiletPaper ==> 0\n",
      "bodySoap ==> 0\n",
      "scrubs ==> 0\n",
      "bodyCreme ==> 0\n",
      "shampoo ==> 0\n",
      "pizza ==> 0\n",
      "burgers ==> 0\n",
      "donuts ==> 0\n",
      "muffins ==> 0\n",
      "cheesecakes ==> 0\n",
      "perfumes ==> 0\n",
      "vanishes ==> 0\n",
      "nailPolish ==> 0\n",
      "deodorants ==> 0\n",
      "facialScrubs ==> 320\n",
      "\n",
      "\n",
      "TOTAL SALES BY DATE\n",
      "_______________________\n",
      "2022-11-24 ==> 360\n"
     ]
    }
   ],
   "source": [
    "productPurchase()"
   ]
  },
  {
   "cell_type": "markdown",
   "metadata": {},
   "source": [
    "### Restock the inventories"
   ]
  },
  {
   "cell_type": "code",
   "execution_count": 8,
   "metadata": {},
   "outputs": [
    {
     "name": "stdout",
     "output_type": "stream",
     "text": [
      "quantity of pizza increase from 25 to 30\n"
     ]
    }
   ],
   "source": [
    "productName = input(\"Enter the name of product to restock: \")\n",
    "quantity = input(\"Enter the number of products to add: \")\n",
    "\n",
    "restocker(productName,quantity)"
   ]
  }
 ],
 "metadata": {
  "kernelspec": {
   "display_name": "Python 3.10.2 64-bit",
   "language": "python",
   "name": "python3"
  },
  "language_info": {
   "codemirror_mode": {
    "name": "ipython",
    "version": 3
   },
   "file_extension": ".py",
   "mimetype": "text/x-python",
   "name": "python",
   "nbconvert_exporter": "python",
   "pygments_lexer": "ipython3",
   "version": "3.10.2"
  },
  "orig_nbformat": 4,
  "vscode": {
   "interpreter": {
    "hash": "c9ca867d73a72652fe5be9e88f2bd22065f337fda4f35137c1e1fee174b5ed27"
   }
  }
 },
 "nbformat": 4,
 "nbformat_minor": 2
}
