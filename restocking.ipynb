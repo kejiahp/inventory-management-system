{
 "cells": [
  {
   "cell_type": "markdown",
   "metadata": {},
   "source": [
    "### To add more products or restock the inventories i created this function"
   ]
  },
  {
   "cell_type": "code",
   "execution_count": 5,
   "metadata": {},
   "outputs": [],
   "source": [
    "#To be able to call this objects in other notebooks\n",
    "import import_ipynb"
   ]
  },
  {
   "cell_type": "code",
   "execution_count": 4,
   "metadata": {},
   "outputs": [],
   "source": [
    "import json\n",
    "from categories import category_items\n",
    "from utils import productNameFormatter"
   ]
  },
  {
   "cell_type": "code",
   "execution_count": null,
   "metadata": {},
   "outputs": [],
   "source": [
    "#A function created to increase the number of units available for a certain product\n",
    "def restocker(prod, qty):\n",
    "    #process the input with the productNameFormatter()\n",
    "    prod = productNameFormatter(prod)\n",
    "\n",
    "    #ensures accepted input is a number\n",
    "    qty = int(qty)\n",
    "\n",
    "    with open(\"inventories.json\",\"r\") as handler:\n",
    "        data = json.load(handler)\n",
    "\n",
    "    for key, value in category_items.items():\n",
    "        if prod in value:\n",
    "            if key == 'Beverages':\n",
    "                oldQty =  int(data[\"beverages_inventory\"][prod][\"quantity\"])\n",
    "                data[\"beverages_inventory\"][prod][\"quantity\"] = int(data[\"beverages_inventory\"][prod][\"quantity\"]) + qty\n",
    "                \n",
    "                print(f\"quantity of {prod} increase from {oldQty} to {data['beverages_inventory'][prod]['quantity']}\")\n",
    "                \n",
    "            elif key == 'PhoneAccessories':\n",
    "                oldQty =  int(data[\"phoneaccessories_inventory\"][prod][\"quantity\"])\n",
    "\n",
    "                data[\"phoneaccessories_inventory\"][prod][\"quantity\"] = int(data[\"phoneaccessories_inventory\"][prod][\"quantity\"]) + qty\n",
    "                \n",
    "                print(f\"quantity of {prod} increase from {oldQty} to {data['phoneaccessories_inventory'][prod]['quantity']}\")\n",
    "\n",
    "            elif key == 'Toiletries':\n",
    "                oldQty =  int(data[\"toiletries_inventory\"][prod][\"quantity\"])\n",
    "\n",
    "                data[\"toiletries_inventory\"][prod][\"quantity\"] = int(data[\"toiletries_inventory\"][prod][\"quantity\"]) + qty\n",
    "                \n",
    "                print(f\"quantity of {prod} increase from {oldQty} to {data['toiletries_inventory'][prod]['quantity']}\")\n",
    "\n",
    "            elif key == 'Pastry':\n",
    "                oldQty =  int(data[\"pastry_inventory\"][prod][\"quantity\"])\n",
    "\n",
    "                data[\"pastry_inventory\"][prod][\"quantity\"] = int(data[\"pastry_inventory\"][prod][\"quantity\"]) + qty\n",
    "                \n",
    "                print(f\"quantity of {prod} increase from {oldQty} to {data['pastry_inventory'][prod]['quantity']}\")\n",
    "\n",
    "            elif key == 'Cosmetics':               \n",
    "                oldQty =  int(data[\"cosmetics_inventory\"][prod][\"quantity\"])\n",
    "                \n",
    "                data[\"cosmetics_inventory\"][prod][\"quantity\"] = int(data[\"cosmetics_inventory\"][prod][\"quantity\"]) + qty\n",
    "                \n",
    "                print(f\"quantity of {prod} increase from {oldQty} to {data['cosmetics_inventory'][prod]['quantity']}\")\n",
    "    \n",
    "    with open(\"inventories.json\", \"w\") as handler:\n",
    "        json.dump(data,handler, indent=2)"
   ]
  }
 ],
 "metadata": {
  "kernelspec": {
   "display_name": "Python 3.10.2 64-bit",
   "language": "python",
   "name": "python3"
  },
  "language_info": {
   "codemirror_mode": {
    "name": "ipython",
    "version": 3
   },
   "file_extension": ".py",
   "mimetype": "text/x-python",
   "name": "python",
   "nbconvert_exporter": "python",
   "pygments_lexer": "ipython3",
   "version": "3.10.2"
  },
  "orig_nbformat": 4,
  "vscode": {
   "interpreter": {
    "hash": "c9ca867d73a72652fe5be9e88f2bd22065f337fda4f35137c1e1fee174b5ed27"
   }
  }
 },
 "nbformat": 4,
 "nbformat_minor": 2
}
