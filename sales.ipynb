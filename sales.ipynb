{
 "cells": [
  {
   "cell_type": "markdown",
   "metadata": {},
   "source": [
    "# This is the sales module that accepts input from the user, updates and displays values based on user inputs, some what like the main executor."
   ]
  },
  {
   "cell_type": "code",
   "execution_count": null,
   "metadata": {},
   "outputs": [],
   "source": [
    "#To be able to call this objects in other notebooks\n",
    "import import_ipynb"
   ]
  },
  {
   "cell_type": "code",
   "execution_count": null,
   "metadata": {},
   "outputs": [],
   "source": [
    "from utils import prodIsExist, addToSalesRecord, receiptGenerator, onEachSales,reduceInventoryQuantity,productNameFormatter"
   ]
  },
  {
   "cell_type": "code",
   "execution_count": null,
   "metadata": {},
   "outputs": [],
   "source": [
    "def productPurchase():\n",
    "    receipt = []\n",
    "\n",
    "    #Added the while loop so has to perform multiple sales\n",
    "    while(True):\n",
    "        #Accept inputs from the user\n",
    "        productName = input(\"Enter the name of the product: \")\n",
    "        print(\"\\n\")\n",
    "\n",
    "        #process the input with the productNameFormatter()\n",
    "        productName = productNameFormatter(productName)\n",
    "\n",
    "        #check if the product exist in the inventories\n",
    "        result = prodIsExist(productName)\n",
    "\n",
    "        #if it does\n",
    "        if result:\n",
    "            #display the product details(category name and other product details)\n",
    "            print(f\"Product details: {result}\")\n",
    "            print(\"\\n\")\n",
    "\n",
    "            #get the unit price of the product from inventories\n",
    "            sales_price = int(result[1][\"price\"])\n",
    "            print(f\"{productName} is sold at {sales_price} per unit\")\n",
    "            print(\"\\n\")\n",
    "\n",
    "            #accept quantity from the user\n",
    "            quantity = int(input(\"Enter the number of items: \"))\n",
    "            print(\"\\n\")\n",
    "\n",
    "            #ensure that the quantity available is not more than the user inputted qunatity \n",
    "            if quantity >= int(result[1][\"quantity\"]):\n",
    "                print(f\"PLEASE ENTER AN ITEM NUMBER LESS THAN {result[1]['quantity']}\")\n",
    "                print(\"\\n\")\n",
    "                #if it is more than the available qunatity generate a receipt and end the sale process\n",
    "                receiptGenerator(receipt)\n",
    "                break\n",
    "            \n",
    "            #calculate the total cost of everything(unitPrice * quantity)\n",
    "            total_cost = sales_price * quantity\n",
    "            print(f\"Total cost of purchase: {total_cost}\")\n",
    "            print(\"\\n\")\n",
    "\n",
    "            #confirm the sale\n",
    "            confirm_Sell = input(\"PLEASE CONFIRM ORDER (Y|y/N|n): \")\n",
    "            print(\"\\n\")\n",
    "\n",
    "            if confirm_Sell in [\"Y\",\"y\"]:\n",
    "                #if confirmed reduce the product available units from the inventories\n",
    "                reduceInventoryQuantity(productName,quantity)\n",
    "\n",
    "                #record the purchase details\n",
    "                addResult = addToSalesRecord(quantity, result, sales_price, productName,total_cost)\n",
    "                print(addResult[1])\n",
    "\n",
    "                if(addResult[0]):\n",
    "                    #add purchase to the receipt\n",
    "                    receipt.append({\"productName\":productName,\"quantity\":quantity,\"total\":total_cost})\n",
    "            else:\n",
    "                #if not comfirmed\n",
    "                print(\"ORDER CANCELLED\")\n",
    "                break\n",
    "        else:\n",
    "            #if product was not found\n",
    "            print(f\"product {productName} doesn't exist\")\n",
    "\n",
    "\n",
    "        #do you want to continue shopping ???\n",
    "        continueShopping = input(\"Do you want to continue shopping?(Y|y/N|n) : \")\n",
    "        print(\"\\n\")\n",
    "        #yes i want to continue shopping\n",
    "        if continueShopping in [\"Y\",\"y\"]:\n",
    "            continue\n",
    "        #no i dont want to continue shopping\n",
    "        else:\n",
    "            print(\"SHOPPING ENDED(CHECKED OUT)\")\n",
    "            print(\"\\n\")\n",
    "            #display receipt\n",
    "            receiptGenerator(receipt)\n",
    "            print(\"\\nAnswer to number 6\")\n",
    "\n",
    "            #according to requirement six\n",
    "            #display results\n",
    "            onEachSales()\n",
    "            break\n",
    "\n",
    "# productPurchase()"
   ]
  }
 ],
 "metadata": {
  "kernelspec": {
   "display_name": "Python 3.10.2 64-bit",
   "language": "python",
   "name": "python3"
  },
  "language_info": {
   "codemirror_mode": {
    "name": "ipython",
    "version": 3
   },
   "file_extension": ".py",
   "mimetype": "text/x-python",
   "name": "python",
   "nbconvert_exporter": "python",
   "pygments_lexer": "ipython3",
   "version": "3.10.2"
  },
  "orig_nbformat": 4,
  "vscode": {
   "interpreter": {
    "hash": "c9ca867d73a72652fe5be9e88f2bd22065f337fda4f35137c1e1fee174b5ed27"
   }
  }
 },
 "nbformat": 4,
 "nbformat_minor": 2
}
