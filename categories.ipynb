{
 "cells": [
  {
   "cell_type": "markdown",
   "metadata": {},
   "source": [
    "### List of categories"
   ]
  },
  {
   "cell_type": "code",
   "execution_count": null,
   "metadata": {},
   "outputs": [],
   "source": [
    "#To be able to call this objects in other notebooks\n",
    "import import_ipynb"
   ]
  },
  {
   "cell_type": "code",
   "execution_count": 1,
   "metadata": {},
   "outputs": [],
   "source": [
    "categories = [\n",
    "    \"Beverages\",\n",
    "    \"PhoneAccessories\",\n",
    "    \"Toiletries\",\n",
    "    \"Pastry\",\n",
    "    \"Cosmetics\"\n",
    "]"
   ]
  },
  {
   "cell_type": "markdown",
   "metadata": {},
   "source": [
    "### categories and their products"
   ]
  },
  {
   "cell_type": "code",
   "execution_count": 2,
   "metadata": {},
   "outputs": [],
   "source": [
    "category_items = {\n",
    "    \"Beverages\":[\"chocolateDrinks\", \"coffee\", \"tea\", \"soyDrinks\", \"pop\",\"soda\"],\n",
    "    \"PhoneAccessories\": [\"carryingCase\", \"earpieces\", \"screenGuards\"],\n",
    "    \"Toiletries\": [\"toiletPaper\", \"bodySoap\", \"scrubs\", \"bodyCreme\", \"shampoo\"],\n",
    "    \"Pastry\": [\"pizza\", \"burgers\", \"donuts\", \"muffins\", \"cheesecakes\"],\n",
    "    \"Cosmetics\": [\"perfumes\", \"vanishes\", \"nailPolish\", \"deodorants\", \"facialScrubs\"]\n",
    "}"
   ]
  }
 ],
 "metadata": {
  "kernelspec": {
   "display_name": "Python 3.10.2 64-bit",
   "language": "python",
   "name": "python3"
  },
  "language_info": {
   "codemirror_mode": {
    "name": "ipython",
    "version": 3
   },
   "file_extension": ".py",
   "mimetype": "text/x-python",
   "name": "python",
   "nbconvert_exporter": "python",
   "pygments_lexer": "ipython3",
   "version": "3.10.2"
  },
  "orig_nbformat": 4,
  "vscode": {
   "interpreter": {
    "hash": "c9ca867d73a72652fe5be9e88f2bd22065f337fda4f35137c1e1fee174b5ed27"
   }
  }
 },
 "nbformat": 4,
 "nbformat_minor": 2
}
